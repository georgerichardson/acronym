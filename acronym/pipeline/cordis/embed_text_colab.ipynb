{
 "cells": [
  {
   "cell_type": "markdown",
   "id": "f279362c-a405-49ce-8818-7ef4f52ffb9e",
   "metadata": {},
   "source": [
    "# Embedding Project Abstracts and Acronyms using Colab\n",
    "\n",
    "1. Upload all downloaded and processed project data from `inputs/data/cordis/<fp>/project.csv`\n",
    "2. Upload all downloaded and processed acronym data from `outputs/data/cordis/<fp>/acronyms.csv`\n",
    "3. Run the cell below"
   ]
  },
  {
   "cell_type": "code",
   "execution_count": null,
   "id": "1ac0e3c5-c667-40b2-8e02-6b5fc56210aa",
   "metadata": {},
   "outputs": [],
   "source": [
    "!pip install git+https://github.com/georgerichardson/acronym.git\n",
    "\n",
    "import pandas as pd\n",
    "import numpy as np\n",
    "from acronym.pipeline.cordis.embed_text import (\n",
    "    remove_matches,\n",
    "    fetch_encoder,\n",
    "    embed,\n",
    ")\n",
    "\n",
    "\n",
    "for fp in [\"fp1\", \"fp2\", \"fp3\", \"fp3\", \"fp4\", \"fp5\", \"fp6\", \"fp7\", \"h2020\"]:\n",
    "    cordis_config = get_yaml_config(\n",
    "        convert_str_to_pathlib_path(f\"{PROJECT_DIR}/acronym/config/cordis.yml\")\n",
    "    )\n",
    "    embed_config = get_yaml_config(\n",
    "        convert_str_to_pathlib_path(f\"{PROJECT_DIR}/acronym/config/embedding.yml\")\n",
    "    )\n",
    "    \n",
    "    projects_fp = pd.read_csv(\"project_{fp}.csv\", usecols=[\"rcn\", \"objective\"])\n",
    "    acronyms_fp = pd.read_csv(\"acronym_{fp}.csv\", usecols=[\"rcn\", \"acronym\"])\n",
    "    \n",
    "    abstracts_modified = remove_mentions(\n",
    "        acronyms_fp[\"acronym\"],\n",
    "        projects_fp[\"objective\"].fillna(\"\"),\n",
    "    )\n",
    "    \n",
    "    encoder = fetch_encoder(embed_config[\"sentence_transformer_model\"])\n",
    "    \n",
    "    abstract_embeddings_fp = embed(encoder, abstracts_modified)\n",
    "    acronym_embeddings_fp = embed(encoder, acronyms_fp[\"acronym\"].tolist())\n",
    "    \n",
    "    np.save(\n",
    "        f\"abstract_embeddings_{fp}\",\n",
    "        abstract_embeddings_fp,\n",
    "    )\n",
    "    np.save(\n",
    "        f\"acronym_embeddings_{fp}\",\n",
    "        acronym_embeddings_fp,\n",
    "    )"
   ]
  }
 ],
 "metadata": {
  "jupytext": {
   "cell_metadata_filter": "-all",
   "comment_magics": true
  },
  "kernelspec": {
   "display_name": "acyronym",
   "language": "python",
   "name": "acyronym"
  },
  "language_info": {
   "codemirror_mode": {
    "name": "ipython",
    "version": 3
   },
   "file_extension": ".py",
   "mimetype": "text/x-python",
   "name": "python",
   "nbconvert_exporter": "python",
   "pygments_lexer": "ipython3",
   "version": "3.8.13"
  }
 },
 "nbformat": 4,
 "nbformat_minor": 5
}
